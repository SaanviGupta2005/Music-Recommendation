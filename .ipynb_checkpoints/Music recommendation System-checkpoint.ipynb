{
 "cells": [
  {
   "cell_type": "markdown",
   "id": "663ceebc",
   "metadata": {},
   "source": [
    "# Importing libraries"
   ]
  },
  {
   "cell_type": "code",
   "execution_count": 154,
   "id": "ef407d24",
   "metadata": {},
   "outputs": [],
   "source": [
    "import tkinter as tk\n",
    "from tkinter import messagebox\n",
    "import pandas as pd\n",
    "import numpy as np\n",
    "import seaborn as sns\n",
    "import matplotlib.pyplot as plt\n",
    "from sklearn.metrics.pairwise import cosine_similarity\n",
    "from sklearn.feature_extraction.text import CountVectorizer"
   ]
  },
  {
   "cell_type": "markdown",
   "id": "667d71cb",
   "metadata": {},
   "source": [
    "# Loading the dataset"
   ]
  },
  {
   "cell_type": "code",
   "execution_count": 155,
   "id": "f4e54cb6",
   "metadata": {},
   "outputs": [],
   "source": [
    "tracks = pd.read_csv('data.csv')"
   ]
  },
  {
   "cell_type": "markdown",
   "id": "b2fa5d5f",
   "metadata": {},
   "source": [
    "# Getting shape of dataset"
   ]
  },
  {
   "cell_type": "code",
   "execution_count": 156,
   "id": "38fd61f7",
   "metadata": {},
   "outputs": [
    {
     "data": {
      "text/plain": [
       "(9999, 31)"
      ]
     },
     "execution_count": 156,
     "metadata": {},
     "output_type": "execute_result"
    }
   ],
   "source": [
    "tracks.shape"
   ]
  },
  {
   "cell_type": "markdown",
   "id": "6fbba926",
   "metadata": {},
   "source": [
    "# Getting first 5 rows of the dataset"
   ]
  },
  {
   "cell_type": "code",
   "execution_count": 157,
   "id": "fcbb5579",
   "metadata": {},
   "outputs": [
    {
     "data": {
      "text/html": [
       "<div>\n",
       "<style scoped>\n",
       "    .dataframe tbody tr th:only-of-type {\n",
       "        vertical-align: middle;\n",
       "    }\n",
       "\n",
       "    .dataframe tbody tr th {\n",
       "        vertical-align: top;\n",
       "    }\n",
       "\n",
       "    .dataframe thead th {\n",
       "        text-align: right;\n",
       "    }\n",
       "</style>\n",
       "<table border=\"1\" class=\"dataframe\">\n",
       "  <thead>\n",
       "    <tr style=\"text-align: right;\">\n",
       "      <th></th>\n",
       "      <th>unnamed</th>\n",
       "      <th>artist_name</th>\n",
       "      <th>track_name</th>\n",
       "      <th>release_date</th>\n",
       "      <th>genre</th>\n",
       "      <th>lyrics</th>\n",
       "      <th>len</th>\n",
       "      <th>dating</th>\n",
       "      <th>violence</th>\n",
       "      <th>world/life</th>\n",
       "      <th>...</th>\n",
       "      <th>sadness</th>\n",
       "      <th>feelings</th>\n",
       "      <th>danceability</th>\n",
       "      <th>loudness</th>\n",
       "      <th>acousticness</th>\n",
       "      <th>instrumentalness</th>\n",
       "      <th>valence</th>\n",
       "      <th>energy</th>\n",
       "      <th>topic</th>\n",
       "      <th>age</th>\n",
       "    </tr>\n",
       "  </thead>\n",
       "  <tbody>\n",
       "    <tr>\n",
       "      <th>0</th>\n",
       "      <td>0</td>\n",
       "      <td>mukesh</td>\n",
       "      <td>mohabbat bhi jhoothi</td>\n",
       "      <td>1950</td>\n",
       "      <td>pop</td>\n",
       "      <td>hold time feel break feel untrue convince spea...</td>\n",
       "      <td>95</td>\n",
       "      <td>0.000598</td>\n",
       "      <td>0.063746</td>\n",
       "      <td>0.000598</td>\n",
       "      <td>...</td>\n",
       "      <td>0.380299</td>\n",
       "      <td>0.117175</td>\n",
       "      <td>0.357739</td>\n",
       "      <td>0.454119</td>\n",
       "      <td>0.997992</td>\n",
       "      <td>0.901822</td>\n",
       "      <td>0.339448</td>\n",
       "      <td>0.137110</td>\n",
       "      <td>sadness</td>\n",
       "      <td>1.0</td>\n",
       "    </tr>\n",
       "    <tr>\n",
       "      <th>1</th>\n",
       "      <td>4</td>\n",
       "      <td>frankie laine</td>\n",
       "      <td>i believe</td>\n",
       "      <td>1950</td>\n",
       "      <td>pop</td>\n",
       "      <td>believe drop rain fall grow believe darkest ni...</td>\n",
       "      <td>51</td>\n",
       "      <td>0.035537</td>\n",
       "      <td>0.096777</td>\n",
       "      <td>0.443435</td>\n",
       "      <td>...</td>\n",
       "      <td>0.001284</td>\n",
       "      <td>0.001284</td>\n",
       "      <td>0.331745</td>\n",
       "      <td>0.647540</td>\n",
       "      <td>0.954819</td>\n",
       "      <td>0.000002</td>\n",
       "      <td>0.325021</td>\n",
       "      <td>0.263240</td>\n",
       "      <td>world/life</td>\n",
       "      <td>1.0</td>\n",
       "    </tr>\n",
       "    <tr>\n",
       "      <th>2</th>\n",
       "      <td>6</td>\n",
       "      <td>johnnie ray</td>\n",
       "      <td>cry</td>\n",
       "      <td>1950</td>\n",
       "      <td>pop</td>\n",
       "      <td>sweetheart send letter goodbye secret feel bet...</td>\n",
       "      <td>24</td>\n",
       "      <td>0.002770</td>\n",
       "      <td>0.002770</td>\n",
       "      <td>0.002770</td>\n",
       "      <td>...</td>\n",
       "      <td>0.002770</td>\n",
       "      <td>0.225422</td>\n",
       "      <td>0.456298</td>\n",
       "      <td>0.585288</td>\n",
       "      <td>0.840361</td>\n",
       "      <td>0.000000</td>\n",
       "      <td>0.351814</td>\n",
       "      <td>0.139112</td>\n",
       "      <td>music</td>\n",
       "      <td>1.0</td>\n",
       "    </tr>\n",
       "    <tr>\n",
       "      <th>3</th>\n",
       "      <td>10</td>\n",
       "      <td>pérez prado</td>\n",
       "      <td>patricia</td>\n",
       "      <td>1950</td>\n",
       "      <td>pop</td>\n",
       "      <td>kiss lips want stroll charm mambo chacha merin...</td>\n",
       "      <td>54</td>\n",
       "      <td>0.048249</td>\n",
       "      <td>0.001548</td>\n",
       "      <td>0.001548</td>\n",
       "      <td>...</td>\n",
       "      <td>0.225889</td>\n",
       "      <td>0.001548</td>\n",
       "      <td>0.686992</td>\n",
       "      <td>0.744404</td>\n",
       "      <td>0.083935</td>\n",
       "      <td>0.199393</td>\n",
       "      <td>0.775350</td>\n",
       "      <td>0.743736</td>\n",
       "      <td>romantic</td>\n",
       "      <td>1.0</td>\n",
       "    </tr>\n",
       "    <tr>\n",
       "      <th>4</th>\n",
       "      <td>12</td>\n",
       "      <td>giorgos papadopoulos</td>\n",
       "      <td>apopse eida oneiro</td>\n",
       "      <td>1950</td>\n",
       "      <td>pop</td>\n",
       "      <td>till darling till matter know till dream live ...</td>\n",
       "      <td>48</td>\n",
       "      <td>0.001350</td>\n",
       "      <td>0.001350</td>\n",
       "      <td>0.417772</td>\n",
       "      <td>...</td>\n",
       "      <td>0.068800</td>\n",
       "      <td>0.001350</td>\n",
       "      <td>0.291671</td>\n",
       "      <td>0.646489</td>\n",
       "      <td>0.975904</td>\n",
       "      <td>0.000246</td>\n",
       "      <td>0.597073</td>\n",
       "      <td>0.394375</td>\n",
       "      <td>romantic</td>\n",
       "      <td>1.0</td>\n",
       "    </tr>\n",
       "  </tbody>\n",
       "</table>\n",
       "<p>5 rows × 31 columns</p>\n",
       "</div>"
      ],
      "text/plain": [
       "   unnamed           artist_name            track_name  release_date genre  \\\n",
       "0        0                mukesh  mohabbat bhi jhoothi          1950   pop   \n",
       "1        4         frankie laine             i believe          1950   pop   \n",
       "2        6           johnnie ray                   cry          1950   pop   \n",
       "3       10           pérez prado              patricia          1950   pop   \n",
       "4       12  giorgos papadopoulos    apopse eida oneiro          1950   pop   \n",
       "\n",
       "                                              lyrics  len    dating  violence  \\\n",
       "0  hold time feel break feel untrue convince spea...   95  0.000598  0.063746   \n",
       "1  believe drop rain fall grow believe darkest ni...   51  0.035537  0.096777   \n",
       "2  sweetheart send letter goodbye secret feel bet...   24  0.002770  0.002770   \n",
       "3  kiss lips want stroll charm mambo chacha merin...   54  0.048249  0.001548   \n",
       "4  till darling till matter know till dream live ...   48  0.001350  0.001350   \n",
       "\n",
       "   world/life  ...   sadness  feelings  danceability  loudness  acousticness  \\\n",
       "0    0.000598  ...  0.380299  0.117175      0.357739  0.454119      0.997992   \n",
       "1    0.443435  ...  0.001284  0.001284      0.331745  0.647540      0.954819   \n",
       "2    0.002770  ...  0.002770  0.225422      0.456298  0.585288      0.840361   \n",
       "3    0.001548  ...  0.225889  0.001548      0.686992  0.744404      0.083935   \n",
       "4    0.417772  ...  0.068800  0.001350      0.291671  0.646489      0.975904   \n",
       "\n",
       "   instrumentalness   valence    energy       topic  age  \n",
       "0          0.901822  0.339448  0.137110     sadness  1.0  \n",
       "1          0.000002  0.325021  0.263240  world/life  1.0  \n",
       "2          0.000000  0.351814  0.139112       music  1.0  \n",
       "3          0.199393  0.775350  0.743736    romantic  1.0  \n",
       "4          0.000246  0.597073  0.394375    romantic  1.0  \n",
       "\n",
       "[5 rows x 31 columns]"
      ]
     },
     "execution_count": 157,
     "metadata": {},
     "output_type": "execute_result"
    }
   ],
   "source": [
    "tracks.head()"
   ]
  },
  {
   "cell_type": "markdown",
   "id": "282844d1",
   "metadata": {},
   "source": [
    "# Visualizing number of duplicates in track_name column"
   ]
  },
  {
   "cell_type": "code",
   "execution_count": 158,
   "id": "93e9a962",
   "metadata": {},
   "outputs": [
    {
     "data": {
      "image/png": "[encoded data removed]",
      "text/plain": [
       "<Figure size 800x600 with 1 Axes>"
      ]
     },
     "metadata": {},
     "output_type": "display_data"
    }
   ],
   "source": [
    "# Count duplicate rows\n",
    "duplicate_counts = tracks['track_name'].duplicated().sum()\n",
    "\n",
    "plt.figure(figsize=(8, 6))\n",
    "plt.bar(['Non-Duplicates', 'Duplicates'], [len(tracks) - duplicate_counts, duplicate_counts], color=['skyblue', 'orange'])\n",
    "plt.title('Duplicate Values in Tracks Dataset')\n",
    "plt.xlabel('Duplicate Status')\n",
    "plt.ylabel('Count')\n",
    "plt.show()"
   ]
  },
  {
   "cell_type": "markdown",
   "id": "1e699fd2",
   "metadata": {},
   "source": [
    "# Preprocessing the data"
   ]
  },
  {
   "cell_type": "markdown",
   "id": "42c8ae3f",
   "metadata": {},
   "source": [
    "### Removing null rows in dataset"
   ]
  },
  {
   "cell_type": "code",
   "execution_count": 159,
   "id": "3fbfa5ab",
   "metadata": {},
   "outputs": [],
   "source": [
    "tracks.dropna(inplace=True)"
   ]
  },
  {
   "cell_type": "markdown",
   "id": "bd6f17e7",
   "metadata": {},
   "source": [
    "### Removing unwanted columns"
   ]
  },
  {
   "cell_type": "code",
   "execution_count": 160,
   "id": "5fa88620",
   "metadata": {},
   "outputs": [],
   "source": [
    "tracks.drop(['unnamed','lyrics', 'world/life', 'night/time', 'age'], axis=1, inplace=True)"
   ]
  },
  {
   "cell_type": "markdown",
   "id": "9d1f4560",
   "metadata": {},
   "source": [
    "### Removing rows with duplicate values"
   ]
  },
  {
   "cell_type": "code",
   "execution_count": 161,
   "id": "2ffdb65d",
   "metadata": {},
   "outputs": [],
   "source": [
    "tracks.drop_duplicates(subset=['track_name'], keep='first', inplace=True)"
   ]
  },
  {
   "cell_type": "markdown",
   "id": "d7463af3",
   "metadata": {},
   "source": [
    "# Number of rows and colums after data preprocessing"
   ]
  },
  {
   "cell_type": "code",
   "execution_count": 162,
   "id": "bac50f9c",
   "metadata": {},
   "outputs": [
    {
     "data": {
      "text/plain": [
       "(9065, 26)"
      ]
     },
     "execution_count": 162,
     "metadata": {},
     "output_type": "execute_result"
    }
   ],
   "source": [
    "tracks.shape"
   ]
  },
  {
   "cell_type": "code",
   "execution_count": 163,
   "id": "21dcb783",
   "metadata": {},
   "outputs": [
    {
     "data": {
      "text/html": [
       "<div>\n",
       "<style scoped>\n",
       "    .dataframe tbody tr th:only-of-type {\n",
       "        vertical-align: middle;\n",
       "    }\n",
       "\n",
       "    .dataframe tbody tr th {\n",
       "        vertical-align: top;\n",
       "    }\n",
       "\n",
       "    .dataframe thead th {\n",
       "        text-align: right;\n",
       "    }\n",
       "</style>\n",
       "<table border=\"1\" class=\"dataframe\">\n",
       "  <thead>\n",
       "    <tr style=\"text-align: right;\">\n",
       "      <th></th>\n",
       "      <th>artist_name</th>\n",
       "      <th>track_name</th>\n",
       "      <th>release_date</th>\n",
       "      <th>genre</th>\n",
       "      <th>len</th>\n",
       "      <th>dating</th>\n",
       "      <th>violence</th>\n",
       "      <th>shake the audience</th>\n",
       "      <th>family/gospel</th>\n",
       "      <th>romantic</th>\n",
       "      <th>...</th>\n",
       "      <th>like/girls</th>\n",
       "      <th>sadness</th>\n",
       "      <th>feelings</th>\n",
       "      <th>danceability</th>\n",
       "      <th>loudness</th>\n",
       "      <th>acousticness</th>\n",
       "      <th>instrumentalness</th>\n",
       "      <th>valence</th>\n",
       "      <th>energy</th>\n",
       "      <th>topic</th>\n",
       "    </tr>\n",
       "  </thead>\n",
       "  <tbody>\n",
       "    <tr>\n",
       "      <th>0</th>\n",
       "      <td>mukesh</td>\n",
       "      <td>mohabbat bhi jhoothi</td>\n",
       "      <td>1950</td>\n",
       "      <td>pop</td>\n",
       "      <td>95</td>\n",
       "      <td>0.000598</td>\n",
       "      <td>0.063746</td>\n",
       "      <td>0.000598</td>\n",
       "      <td>0.048857</td>\n",
       "      <td>0.017104</td>\n",
       "      <td>...</td>\n",
       "      <td>0.000598</td>\n",
       "      <td>0.380299</td>\n",
       "      <td>0.117175</td>\n",
       "      <td>0.357739</td>\n",
       "      <td>0.454119</td>\n",
       "      <td>0.997992</td>\n",
       "      <td>0.901822</td>\n",
       "      <td>0.339448</td>\n",
       "      <td>0.137110</td>\n",
       "      <td>sadness</td>\n",
       "    </tr>\n",
       "    <tr>\n",
       "      <th>1</th>\n",
       "      <td>frankie laine</td>\n",
       "      <td>i believe</td>\n",
       "      <td>1950</td>\n",
       "      <td>pop</td>\n",
       "      <td>51</td>\n",
       "      <td>0.035537</td>\n",
       "      <td>0.096777</td>\n",
       "      <td>0.001284</td>\n",
       "      <td>0.027007</td>\n",
       "      <td>0.001284</td>\n",
       "      <td>...</td>\n",
       "      <td>0.001284</td>\n",
       "      <td>0.001284</td>\n",
       "      <td>0.001284</td>\n",
       "      <td>0.331745</td>\n",
       "      <td>0.647540</td>\n",
       "      <td>0.954819</td>\n",
       "      <td>0.000002</td>\n",
       "      <td>0.325021</td>\n",
       "      <td>0.263240</td>\n",
       "      <td>world/life</td>\n",
       "    </tr>\n",
       "    <tr>\n",
       "      <th>2</th>\n",
       "      <td>johnnie ray</td>\n",
       "      <td>cry</td>\n",
       "      <td>1950</td>\n",
       "      <td>pop</td>\n",
       "      <td>24</td>\n",
       "      <td>0.002770</td>\n",
       "      <td>0.002770</td>\n",
       "      <td>0.002770</td>\n",
       "      <td>0.002770</td>\n",
       "      <td>0.158564</td>\n",
       "      <td>...</td>\n",
       "      <td>0.002770</td>\n",
       "      <td>0.002770</td>\n",
       "      <td>0.225422</td>\n",
       "      <td>0.456298</td>\n",
       "      <td>0.585288</td>\n",
       "      <td>0.840361</td>\n",
       "      <td>0.000000</td>\n",
       "      <td>0.351814</td>\n",
       "      <td>0.139112</td>\n",
       "      <td>music</td>\n",
       "    </tr>\n",
       "    <tr>\n",
       "      <th>3</th>\n",
       "      <td>pérez prado</td>\n",
       "      <td>patricia</td>\n",
       "      <td>1950</td>\n",
       "      <td>pop</td>\n",
       "      <td>54</td>\n",
       "      <td>0.048249</td>\n",
       "      <td>0.001548</td>\n",
       "      <td>0.021500</td>\n",
       "      <td>0.001548</td>\n",
       "      <td>0.411536</td>\n",
       "      <td>...</td>\n",
       "      <td>0.081132</td>\n",
       "      <td>0.225889</td>\n",
       "      <td>0.001548</td>\n",
       "      <td>0.686992</td>\n",
       "      <td>0.744404</td>\n",
       "      <td>0.083935</td>\n",
       "      <td>0.199393</td>\n",
       "      <td>0.775350</td>\n",
       "      <td>0.743736</td>\n",
       "      <td>romantic</td>\n",
       "    </tr>\n",
       "    <tr>\n",
       "      <th>4</th>\n",
       "      <td>giorgos papadopoulos</td>\n",
       "      <td>apopse eida oneiro</td>\n",
       "      <td>1950</td>\n",
       "      <td>pop</td>\n",
       "      <td>48</td>\n",
       "      <td>0.001350</td>\n",
       "      <td>0.001350</td>\n",
       "      <td>0.001350</td>\n",
       "      <td>0.001350</td>\n",
       "      <td>0.463430</td>\n",
       "      <td>...</td>\n",
       "      <td>0.001350</td>\n",
       "      <td>0.068800</td>\n",
       "      <td>0.001350</td>\n",
       "      <td>0.291671</td>\n",
       "      <td>0.646489</td>\n",
       "      <td>0.975904</td>\n",
       "      <td>0.000246</td>\n",
       "      <td>0.597073</td>\n",
       "      <td>0.394375</td>\n",
       "      <td>romantic</td>\n",
       "    </tr>\n",
       "  </tbody>\n",
       "</table>\n",
       "<p>5 rows × 26 columns</p>\n",
       "</div>"
      ],
      "text/plain": [
       "            artist_name            track_name  release_date genre  len  \\\n",
       "0                mukesh  mohabbat bhi jhoothi          1950   pop   95   \n",
       "1         frankie laine             i believe          1950   pop   51   \n",
       "2           johnnie ray                   cry          1950   pop   24   \n",
       "3           pérez prado              patricia          1950   pop   54   \n",
       "4  giorgos papadopoulos    apopse eida oneiro          1950   pop   48   \n",
       "\n",
       "     dating  violence  shake the audience  family/gospel  romantic  ...  \\\n",
       "0  0.000598  0.063746            0.000598       0.048857  0.017104  ...   \n",
       "1  0.035537  0.096777            0.001284       0.027007  0.001284  ...   \n",
       "2  0.002770  0.002770            0.002770       0.002770  0.158564  ...   \n",
       "3  0.048249  0.001548            0.021500       0.001548  0.411536  ...   \n",
       "4  0.001350  0.001350            0.001350       0.001350  0.463430  ...   \n",
       "\n",
       "   like/girls   sadness  feelings  danceability  loudness  acousticness  \\\n",
       "0    0.000598  0.380299  0.117175      0.357739  0.454119      0.997992   \n",
       "1    0.001284  0.001284  0.001284      0.331745  0.647540      0.954819   \n",
       "2    0.002770  0.002770  0.225422      0.456298  0.585288      0.840361   \n",
       "3    0.081132  0.225889  0.001548      0.686992  0.744404      0.083935   \n",
       "4    0.001350  0.068800  0.001350      0.291671  0.646489      0.975904   \n",
       "\n",
       "   instrumentalness   valence    energy       topic  \n",
       "0          0.901822  0.339448  0.137110     sadness  \n",
       "1          0.000002  0.325021  0.263240  world/life  \n",
       "2          0.000000  0.351814  0.139112       music  \n",
       "3          0.199393  0.775350  0.743736    romantic  \n",
       "4          0.000246  0.597073  0.394375    romantic  \n",
       "\n",
       "[5 rows x 26 columns]"
      ]
     },
     "execution_count": 163,
     "metadata": {},
     "output_type": "execute_result"
    }
   ],
   "source": [
    "tracks.head()"
   ]
  },
  {
   "cell_type": "markdown",
   "id": "f41b7850",
   "metadata": {},
   "source": [
    "# Checking null values in the dataset"
   ]
  },
  {
   "cell_type": "code",
   "execution_count": 164,
   "id": "e3615faf",
   "metadata": {},
   "outputs": [
    {
     "data": {
      "text/plain": [
       "artist_name                 0\n",
       "track_name                  0\n",
       "release_date                0\n",
       "genre                       0\n",
       "len                         0\n",
       "dating                      0\n",
       "violence                    0\n",
       "shake the audience          0\n",
       "family/gospel               0\n",
       "romantic                    0\n",
       "communication               0\n",
       "obscene                     0\n",
       "music                       0\n",
       "movement/places             0\n",
       "light/visual perceptions    0\n",
       "family/spiritual            0\n",
       "like/girls                  0\n",
       "sadness                     0\n",
       "feelings                    0\n",
       "danceability                0\n",
       "loudness                    0\n",
       "acousticness                0\n",
       "instrumentalness            0\n",
       "valence                     0\n",
       "energy                      0\n",
       "topic                       0\n",
       "dtype: int64"
      ]
     },
     "execution_count": 164,
     "metadata": {},
     "output_type": "execute_result"
    }
   ],
   "source": [
    "tracks.isnull().sum()"
   ]
  },
  {
   "cell_type": "markdown",
   "id": "29fda2a7",
   "metadata": {},
   "source": [
    "# Visualizing null values"
   ]
  },
  {
   "cell_type": "code",
   "execution_count": 165,
   "id": "51cf88f1",
   "metadata": {},
   "outputs": [
    {
     "data": {
      "image/png": "[encoded data removed]",
      "text/plain": [
       "<Figure size 1000x600 with 2 Axes>"
      ]
     },
     "metadata": {},
     "output_type": "display_data"
    }
   ],
   "source": [
    "plt.figure(figsize=(10, 6))\n",
    "sns.heatmap(tracks.isnull(),cmap='magma')\n",
    "plt.title('Null Values Heatmap for Tracks Dataset')\n",
    "plt.xlabel('Columns')\n",
    "plt.ylabel('Rows')\n",
    "plt.show()"
   ]
  },
  {
   "cell_type": "markdown",
   "id": "55d559e7",
   "metadata": {},
   "source": [
    "# Vectorize genre column\n"
   ]
  },
  {
   "cell_type": "code",
   "execution_count": 166,
   "id": "a378f1c3",
   "metadata": {},
   "outputs": [
    {
     "data": {
      "text/plain": [
       "CountVectorizer()"
      ]
     },
     "execution_count": 166,
     "metadata": {},
     "output_type": "execute_result"
    }
   ],
   "source": [
    "song_vectorizer = CountVectorizer()\n",
    "song_vectorizer.fit(tracks['genre'])"
   ]
  },
  {
   "cell_type": "markdown",
   "id": "088d76cb",
   "metadata": {},
   "source": [
    "# Getting similarity"
   ]
  },
  {
   "cell_type": "code",
   "execution_count": 167,
   "id": "22f57202",
   "metadata": {},
   "outputs": [],
   "source": [
    "def get_similarities(song_name):\n",
    "    text_array1, num_array1 = get_song_vectors(song_name)\n",
    "\n",
    "    sim = []\n",
    "    for idx, row in tracks.iterrows():\n",
    "        name = row['track_name']\n",
    "        text_array2, num_array2 = get_song_vectors(name)\n",
    "\n",
    "        # Calculating similarities for text as well as numeric features\n",
    "        text_sim = cosine_similarity(text_array1, text_array2)[0][0]\n",
    "        num_sim = cosine_similarity(num_array1, num_array2)[0][0]\n",
    "        sim.append(text_sim + num_sim)\n",
    "\n",
    "    return sim"
   ]
  },
  {
   "cell_type": "markdown",
   "id": "f57e6115",
   "metadata": {},
   "source": [
    "# Getting song vector"
   ]
  },
  {
   "cell_type": "code",
   "execution_count": 168,
   "id": "beae9b4d",
   "metadata": {},
   "outputs": [],
   "source": [
    "def get_song_vectors(song_name):\n",
    "    # Getting vector for the input song.\n",
    "    text_array = song_vectorizer.transform(tracks[tracks['track_name'] == song_name]['genre']).toarray()\n",
    "    num_array = tracks[tracks['track_name'] == song_name].select_dtypes(include=np.number).to_numpy()\n",
    "    return text_array, num_array"
   ]
  },
  {
   "cell_type": "markdown",
   "id": "e91faff9",
   "metadata": {},
   "source": [
    "# Recommending Songs"
   ]
  },
  {
   "cell_type": "code",
   "execution_count": 169,
   "id": "fe4d9423",
   "metadata": {},
   "outputs": [],
   "source": [
    "def recommend(song_name):\n",
    "    if not song_name:\n",
    "        messagebox.showerror(\"Error\", \"Please enter a song name.\")\n",
    "        return\n",
    "\n",
    "    if tracks[tracks['track_name'] == song_name].shape[0] == 0:\n",
    "        messagebox.showinfo(\"Info\", \"This song is either not so popular or you have entered an invalid name.\")\n",
    "        return\n",
    "\n",
    "    similarities = get_similarities(song_name)\n",
    "    tracks['similarity_factor'] = similarities\n",
    "    tracks.sort_values(by=['similarity_factor', 'genre'], ascending=[False, False], inplace=True)\n",
    "\n",
    "    recommendations = tracks[['track_name', 'artist_name']].iloc[1:6].values.tolist()\n",
    "    recommendation_text = \"\\n\".join([f\"{idx + 1}. {recommendation[0]} by {recommendation[1]}\" for idx, recommendation in enumerate(recommendations)])\n",
    "    result_label.config(text=\"Recommendations:\\n\\n\" + recommendation_text,pady=20,font=(\"Helvetica\", 10))"
   ]
  },
  {
   "cell_type": "markdown",
   "id": "77baa0ac",
   "metadata": {},
   "source": [
    "# Building UI"
   ]
  },
  {
   "cell_type": "code",
   "execution_count": 170,
   "id": "dd7155aa",
   "metadata": {},
   "outputs": [],
   "source": [
    "root = tk.Tk()\n",
    "root.title(\"Music Recommendation System\")\n",
    "root.geometry(\"750x450\")\n",
    "\n",
    "root.configure(bg=\"midnight blue\")\n",
    "\n",
    "label = tk.Label(root, text=\"Enter Song Name:\",fg=\"CadetBlue2\", bg=\"midnight blue\",font=(\"Helvetica\", 14))\n",
    "label.pack(pady=15)\n",
    "\n",
    "entry = tk.Entry(root,width=50)\n",
    "entry.pack()\n",
    "\n",
    "def recommend_wrapper():\n",
    "    input_song_name = entry.get().strip()\n",
    "    recommend(input_song_name)\n",
    "\n",
    "submit_button = tk.Button(root, text=\"Recommend Songs\", command=recommend_wrapper,fg=\"midnight blue\", bg=\"CadetBlue2\",font=(\"Times\", 12))\n",
    "submit_button.pack(pady=20)\n",
    "\n",
    "result_label = tk.Label(root, text=\"\",height=10,width=50,bg=\"CadetBlue2\", fg=\"midnight blue\",font=(\"Helvetica\",12))\n",
    "result_label.pack()\n",
    "\n",
    "root.mainloop()\n"
   ]
  }
 ],
 "metadata": {
  "kernelspec": {
   "display_name": "Python 3 (ipykernel)",
   "language": "python",
   "name": "python3"
  },
  "language_info": {
   "codemirror_mode": {
    "name": "ipython",
    "version": 3
   },
   "file_extension": ".py",
   "mimetype": "text/x-python",
   "name": "python",
   "nbconvert_exporter": "python",
   "pygments_lexer": "ipython3",
   "version": "3.9.13"
  }
 },
 "nbformat": 4,
 "nbformat_minor": 5
}
